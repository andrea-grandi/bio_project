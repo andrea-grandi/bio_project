{
 "cells": [
  {
   "cell_type": "code",
   "execution_count": 1,
   "id": "8f61938b-7857-4dfe-ad46-a65076b3dd5f",
   "metadata": {},
   "outputs": [
    {
     "name": "stdout",
     "output_type": "stream",
     "text": [
      "Selezionate 1000 patch casuali e copiate in 'selected_patches'. Metadati salvati in 'selected_metadata.csv'.\n"
     ]
    }
   ],
   "source": [
    "import pandas as pd\n",
    "import os\n",
    "import shutil\n",
    "\n",
    "def find_patch_in_subdirectories(base_dir, patch_filename):\n",
    "    for root, _, files in os.walk(base_dir):\n",
    "        if patch_filename in files:\n",
    "            return os.path.join(root, patch_filename)\n",
    "    return None\n",
    "\n",
    "\n",
    "input_metadata_file = \"camelyon17_dataset_10000_instances/metadata.csv\"\n",
    "output_metadata_file = \"selected_metadata.csv\"\n",
    "original_patches_dir = \"camelyon17_dataset_10000_instances/patches\"\n",
    "output_patches_dir = \"selected_patches\"\n",
    "\n",
    "n_patches = 1000\n",
    "\n",
    "metadata = pd.read_csv(input_metadata_file)\n",
    "\n",
    "required_columns = [\"patient\", \"node\", \"x_coord\", \"y_coord\", \"tumor\", \"slide\", \"center\", \"split\"]\n",
    "for column in required_columns:\n",
    "    if column not in metadata.columns:\n",
    "        raise ValueError(f\"La colonna '{column}' non esiste nel file dei metadati.\")\n",
    "\n",
    "selected_patches = metadata.sample(n=n_patches, random_state=42)\n",
    "selected_patches.to_csv(output_metadata_file, index=False)\n",
    "os.makedirs(output_patches_dir, exist_ok=True)\n",
    "\n",
    "for _, row in selected_patches.iterrows():\n",
    "    patient_str = f\"{int(row['patient']):03d}\" \n",
    "    patch_filename = f\"patch_patient_{patient_str}_node_{row['node']}_x_{row['x_coord']}_y_{row['y_coord']}.png\"\n",
    "    source_path = find_patch_in_subdirectories(original_patches_dir, patch_filename)\n",
    "    destination_path = os.path.join(output_patches_dir, patch_filename)\n",
    "\n",
    "    if source_path:\n",
    "        shutil.copy(source_path, destination_path)\n",
    "    else:\n",
    "        print(f\"Attenzione: la patch '{patch_filename}' non esiste nelle sottocartelle di '{original_patches_dir}'.\")\n",
    "\n",
    "print(f\"Selezionate {n_patches} patch casuali e copiate in '{output_patches_dir}'. Metadati salvati in '{output_metadata_file}'.\")"
   ]
  },
  {
   "cell_type": "code",
   "execution_count": null,
   "id": "7c209520-0d7b-4161-a2d5-97a7ad9c773c",
   "metadata": {},
   "outputs": [],
   "source": []
  }
 ],
 "metadata": {
  "kernelspec": {
   "display_name": "Python 3 (ipykernel)",
   "language": "python",
   "name": "python3"
  },
  "language_info": {
   "codemirror_mode": {
    "name": "ipython",
    "version": 3
   },
   "file_extension": ".py",
   "mimetype": "text/x-python",
   "name": "python",
   "nbconvert_exporter": "python",
   "pygments_lexer": "ipython3",
   "version": "3.11.10"
  }
 },
 "nbformat": 4,
 "nbformat_minor": 5
}
